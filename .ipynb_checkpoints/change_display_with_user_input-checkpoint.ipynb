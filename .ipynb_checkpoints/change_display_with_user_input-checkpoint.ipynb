{
 "cells": [
  {
   "cell_type": "code",
   "execution_count": 19,
   "id": "e3a18cc4",
   "metadata": {},
   "outputs": [],
   "source": [
    "# game_list = [1,2,3,4]\n",
    "\n",
    "# # game_list = [1,2,3,4]\n",
    "# game_on = True\n",
    "\n",
    "# while game_on:\n",
    "#     clear_output()\n",
    "#     display_game(game_list)\n",
    "\n",
    "#     game_list = update_game(game_list,user_input_position, user_input)\n",
    "\n",
    "#     user_input_position()\n",
    "#     user_input_position= user_input_position()\n",
    "\n",
    "#     user_input()\n",
    "#     user_input = user_input()\n",
    "\n",
    "#     clear_output()\n",
    "#     display_game(game_list)\n",
    "\n",
    "#     game_on = game_on()"
   ]
  },
  {
   "cell_type": "code",
   "execution_count": 1,
   "id": "aad83275",
   "metadata": {},
   "outputs": [],
   "source": [
    "def display_game(game_list):\n",
    "    print(\"Here is the game list: \")\n",
    "    print(game_list)"
   ]
  },
  {
   "cell_type": "code",
   "execution_count": 2,
   "id": "924ff9cb",
   "metadata": {},
   "outputs": [],
   "source": [
    "def update_game(game_list, user_input_position, user_input):\n",
    "    game_list[user_input_position] = user_input\n",
    "    return game_list"
   ]
  },
  {
   "cell_type": "code",
   "execution_count": 3,
   "id": "e15a12c1",
   "metadata": {},
   "outputs": [],
   "source": [
    "def user_input_position():\n",
    "    \n",
    "    desired_value = range(0,4)\n",
    "    input_value = input(\"Please, enter a number between 0 to 3: \")\n",
    "    \n",
    "    while input_value.isdigit() == False or int(input_value) not in desired_value:\n",
    "        #checking whether str or int\n",
    "        if input_value.isdigit() == False:\n",
    "            print(\"Ooops!!! You didn't enter a integer.\")\n",
    "            input_value = input(\"Please enter a integer: \")\n",
    "        \n",
    "        else:\n",
    "#         checking if entered value in outside of the rnage:\n",
    "            print(f\"Your entered value, {input_value}, is not between 0 and 3.\")\n",
    "            input_value = input(\"Please, enter a number between 0 and 3: \")\n",
    "            \n",
    "    return int(input_value)"
   ]
  },
  {
   "cell_type": "code",
   "execution_count": 4,
   "id": "7036e96a",
   "metadata": {},
   "outputs": [],
   "source": [
    "def user_input():\n",
    "    return input(\"Please enter what you want to put as a replacement: \")"
   ]
  },
  {
   "cell_type": "code",
   "execution_count": 9,
   "id": "7400ee4c",
   "metadata": {},
   "outputs": [],
   "source": [
    "# from IPython.display import clear_output\n",
    "\n",
    "def game_on():\n",
    "    game_is_on = ''\n",
    "    \n",
    "    while game_is_on not in ['y', 'n']:\n",
    "        game_is_on = input(\"Do you want to play again? If yes, type 'y', if no, type 'n': \").lower()\n",
    "        \n",
    "        if game_is_on not in ['y', 'n']:\n",
    "            print(\"I didn't understand you you said.\")\n",
    "            game_is_on = input(\"Enter 'Y' to play again and 'N' to end this session: \")\n",
    "#         else:\n",
    "#             if game_is_on == 'y':\n",
    "#                 return True\n",
    "#             else:\n",
    "#                 return False\n",
    "    if game_is_on == 'y':\n",
    "        return True\n",
    "    else:\n",
    "        return False\n"
   ]
  },
  {
   "cell_type": "code",
   "execution_count": null,
   "id": "eed33d39",
   "metadata": {},
   "outputs": [
    {
     "name": "stdout",
     "output_type": "stream",
     "text": [
      "Here is the game list: \n",
      "[1, 2, 3, 4]\n",
      "Please, enter a number between 0 to 3: ff\n",
      "Ooops!!! You didn't enter a integer.\n",
      "Please enter a integer: ad\n",
      "Ooops!!! You didn't enter a integer.\n",
      "Please enter a integer: 56\n",
      "Your entered value, 56, is not between 0 and 3.\n",
      "Please, enter a number between 0 and 3: 3\n",
      "Please enter what you want to put as a replacement: th\n",
      "Here is the game list: \n",
      "[1, 2, 3, 'th']\n",
      "Do you want to play again? If yes, type 'y', if no, type 'n': d\n",
      "I didn't understand you you said.\n",
      "Enter 'Y' to play again and 'N' to end this session: fd\n",
      "Do you want to play again? If yes, type 'y', if no, type 'n': 45\n",
      "I didn't understand you you said.\n",
      "Enter 'Y' to play again and 'N' to end this session: Y\n",
      "Do you want to play again? If yes, type 'y', if no, type 'n': Y\n",
      "Here is the game list: \n",
      "[1, 2, 3, 'th']\n",
      "Please, enter a number between 0 to 3: 3\n",
      "Please enter what you want to put as a replacement: 3\n",
      "Here is the game list: \n",
      "[1, 2, 3, '3']\n",
      "Do you want to play again? If yes, type 'y', if no, type 'n': Y\n",
      "Here is the game list: \n",
      "[1, 2, 3, '3']\n",
      "Please, enter a number between 0 to 3: 1\n",
      "Please enter what you want to put as a replacement: 3\n",
      "Here is the game list: \n",
      "[1, '3', 3, '3']\n",
      "Do you want to play again? If yes, type 'y', if no, type 'n': n\n",
      "Here is the game list: \n",
      "[1, '3', 3, '3']\n",
      "Please, enter a number between 0 to 3: 3\n",
      "Please enter what you want to put as a replacement: \n",
      "Here is the game list: \n",
      "[1, '3', 3, '']\n",
      "Do you want to play again? If yes, type 'y', if no, type 'n': \n",
      "I didn't understand you you said.\n",
      "Enter 'Y' to play again and 'N' to end this session: \n",
      "Do you want to play again? If yes, type 'y', if no, type 'n': \n",
      "I didn't understand you you said.\n",
      "Enter 'Y' to play again and 'N' to end this session: 3\n",
      "Do you want to play again? If yes, type 'y', if no, type 'n': n\n",
      "Here is the game list: \n",
      "[1, '3', 3, '']\n",
      "Please, enter a number between 0 to 3: 3\n"
     ]
    }
   ],
   "source": [
    "game_list = [1,2,3,4]\n",
    "\n",
    "play_again = True\n",
    "\n",
    "while play_again:\n",
    "    \n",
    "    display_game(game_list)\n",
    "\n",
    "    position= user_input_position()\n",
    "\n",
    "    user = user_input()\n",
    "    \n",
    "    game_list = update_game(game_list,position, user)\n",
    "\n",
    "    display_game(game_list)\n",
    "\n",
    "    play_again = game_on()"
   ]
  },
  {
   "cell_type": "code",
   "execution_count": null,
   "id": "14c00626",
   "metadata": {},
   "outputs": [],
   "source": []
  }
 ],
 "metadata": {
  "kernelspec": {
   "display_name": "Python 3 (ipykernel)",
   "language": "python",
   "name": "python3"
  },
  "language_info": {
   "codemirror_mode": {
    "name": "ipython",
    "version": 3
   },
   "file_extension": ".py",
   "mimetype": "text/x-python",
   "name": "python",
   "nbconvert_exporter": "python",
   "pygments_lexer": "ipython3",
   "version": "3.9.7"
  },
  "varInspector": {
   "cols": {
    "lenName": 16,
    "lenType": 16,
    "lenVar": 40
   },
   "kernels_config": {
    "python": {
     "delete_cmd_postfix": "",
     "delete_cmd_prefix": "del ",
     "library": "var_list.py",
     "varRefreshCmd": "print(var_dic_list())"
    },
    "r": {
     "delete_cmd_postfix": ") ",
     "delete_cmd_prefix": "rm(",
     "library": "var_list.r",
     "varRefreshCmd": "cat(var_dic_list()) "
    }
   },
   "types_to_exclude": [
    "module",
    "function",
    "builtin_function_or_method",
    "instance",
    "_Feature"
   ],
   "window_display": false
  }
 },
 "nbformat": 4,
 "nbformat_minor": 5
}
